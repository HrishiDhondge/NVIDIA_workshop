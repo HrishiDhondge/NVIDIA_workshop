{
  "cells": [
    {
      "cell_type": "markdown",
      "metadata": {
        "id": "view-in-github",
        "colab_type": "text"
      },
      "source": [
        "<a href=\"https://colab.research.google.com/github/HrishiDhondge/NVIDIA_workshop/blob/main/Nemo_agent_toolkit.ipynb\" target=\"_parent\"><img src=\"https://colab.research.google.com/assets/colab-badge.svg\" alt=\"Open In Colab\"/></a>"
      ]
    },
    {
      "cell_type": "markdown",
      "id": "24aac229",
      "metadata": {
        "id": "24aac229"
      },
      "source": [
        "# The NVIDIA NeMo Agent toolkit for AI Agents"
      ]
    },
    {
      "cell_type": "markdown",
      "source": [
        "### Getting started with Pre-requisites\n",
        "\n",
        "1. Git Large File Storage (LFS)\n",
        "2. uv\n",
        "3. Nemo-Agent-toolkit GitHub repo"
      ],
      "metadata": {
        "id": "Nl5wRfMGXoL2"
      },
      "id": "Nl5wRfMGXoL2"
    },
    {
      "cell_type": "code",
      "execution_count": null,
      "id": "4817902b",
      "metadata": {
        "id": "4817902b"
      },
      "outputs": [],
      "source": [
        "# Download and install git-lfs\n",
        "!wget https://github.com/git-lfs/git-lfs/releases/download/v3.7.0/git-lfs-linux-amd64-v3.7.0.tar.gz\n",
        "\n",
        "# Extract the files\n",
        "!tar -xvf git-lfs-linux-amd64-v3.7.0.tar.gz\n",
        "!git-lfs-3.7.0/./install.sh # Install"
      ]
    },
    {
      "cell_type": "code",
      "execution_count": null,
      "id": "f8514fe8",
      "metadata": {
        "id": "f8514fe8"
      },
      "outputs": [],
      "source": [
        "# Install uv with one of these two ways\n",
        "# curl -LsSf https://astral.sh/uv/install.sh | sh\n",
        "!pip install uv"
      ]
    },
    {
      "cell_type": "markdown",
      "source": [
        "### Clone the Repository and Update Submodules"
      ],
      "metadata": {
        "id": "dcVbXyuQaKcS"
      },
      "id": "dcVbXyuQaKcS"
    },
    {
      "cell_type": "code",
      "execution_count": null,
      "id": "c86aa375",
      "metadata": {
        "id": "c86aa375"
      },
      "outputs": [],
      "source": [
        "# Clone NeMo-Agent-Toolkit repository\n",
        "!git clone https://github.com/NVIDIA/NeMo-Agent-Toolkit.git aiqtoolkit\n",
        "%cd aiqtoolkit"
      ]
    },
    {
      "cell_type": "code",
      "execution_count": null,
      "id": "6da0baaa",
      "metadata": {
        "id": "6da0baaa"
      },
      "outputs": [],
      "source": [
        "#Initialize, fetch, and update submodules\n",
        "!git submodule update --init --recursive\n",
        "\n",
        "# Fetch the data sets\n",
        "!git lfs install\n",
        "!git lfs fetch\n",
        "!git lfs pull"
      ]
    },
    {
      "cell_type": "markdown",
      "source": [
        "### Create and Sync the Environment"
      ],
      "metadata": {
        "id": "Gjwy9leoapVE"
      },
      "id": "Gjwy9leoapVE"
    },
    {
      "cell_type": "code",
      "execution_count": null,
      "id": "1d500243",
      "metadata": {
        "id": "1d500243"
      },
      "outputs": [],
      "source": [
        "# Creating the environment\n",
        "!uv venv --seed .venv --python 3.11 -c\n",
        "!source .venv/bin/activate\n",
        "\n",
        "# syncronizing the environment\n",
        "!uv sync --all-groups --all-extras"
      ]
    },
    {
      "cell_type": "code",
      "source": [
        "# Setting up some environment varibales here\n",
        "import os\n",
        "os.environ[\"UV_CONSTRAINT\"] = \"\"\n",
        "os.environ[\"UV_BUILD_CONSTRAINT\"] = \"\"\n",
        "os.environ[\"UV_PRERELEASE\"] = \"if-necessary-or-explicit\"\n",
        "os.environ[\"UV_SYSTEM_PYTHON\"] = \"false\"\n",
        "os.environ[\"aiq\"] = \"./.venv/bin/aiq\"\n"
      ],
      "metadata": {
        "id": "sUHCuURRdRlf"
      },
      "id": "sUHCuURRdRlf",
      "execution_count": null,
      "outputs": []
    },
    {
      "cell_type": "markdown",
      "source": [
        "### Install Individual Plugins from `packages/` directory"
      ],
      "metadata": {
        "id": "_J9JsK4Fa1sm"
      },
      "id": "_J9JsK4Fa1sm"
    },
    {
      "cell_type": "code",
      "execution_count": null,
      "id": "78bbe72a",
      "metadata": {
        "id": "78bbe72a"
      },
      "outputs": [],
      "source": [
        "# Installing individual plugins\n",
        "!uv pip install -e '.[langchain]'\n",
        "# !uv pip install -e '.[llama-index]'\n",
        "# !uv pip install -e examples/getting_started/simple_web_query\n",
        "\n",
        "# Dependencies for profiling\n",
        "!uv pip install -e '.[profiling]'\n",
        "\n",
        "# Check the installed version for toolkit library\n",
        "!$aiq --version"
      ]
    },
    {
      "cell_type": "markdown",
      "source": [
        "### **Define the NVIDIA API key**"
      ],
      "metadata": {
        "id": "kXz51PoGpe9O"
      },
      "id": "kXz51PoGpe9O"
    },
    {
      "cell_type": "code",
      "source": [
        "# Define your NVIDIA API key here\n",
        "os.environ[\"NVIDIA_API_KEY\"] = \"<your_api_key>\""
      ],
      "metadata": {
        "id": "UXuuvIdupfZB"
      },
      "id": "UXuuvIdupfZB",
      "execution_count": null,
      "outputs": []
    },
    {
      "cell_type": "markdown",
      "source": [
        "## Wikipedia Search Workflow"
      ],
      "metadata": {
        "id": "1KvKvhE8em6Q"
      },
      "id": "1KvKvhE8em6Q"
    },
    {
      "cell_type": "code",
      "source": [
        "filename='wikipedia_workflow.yaml'\n",
        "content = \"\"\"\n",
        "functions:\n",
        "   # Add a tool to search wikipedia\n",
        "   wikipedia_search:\n",
        "      _type: wiki_search\n",
        "      max_results: 2\n",
        "\n",
        "llms:\n",
        "   # Tell NeMo Agent toolkit which LLM to use for the agent\n",
        "   nim_llm:\n",
        "      _type: nim\n",
        "      model_name: meta/llama-3.1-70b-instruct\n",
        "      temperature: 0.0\n",
        "\n",
        "workflow:\n",
        "   # Use an agent that 'reasons' and 'acts'\n",
        "   _type: react_agent\n",
        "   # Give it access to our wikipedia search tool\n",
        "   tool_names: [wikipedia_search]\n",
        "   # Tell it which LLM to use\n",
        "   llm_name: nim_llm\n",
        "   # Make it verbose\n",
        "   verbose: true\n",
        "   # Retry up to 3 times\n",
        "   parse_agent_response_max_retries: 3\n",
        "\"\"\"\n",
        "# Writing to the file\n",
        "with open(filename, \"w\") as f:\n",
        "    f.write(content)"
      ],
      "metadata": {
        "id": "0MbMgDaQczmx"
      },
      "id": "0MbMgDaQczmx",
      "execution_count": null,
      "outputs": []
    },
    {
      "cell_type": "code",
      "execution_count": null,
      "id": "ae91ee8a",
      "metadata": {
        "id": "ae91ee8a"
      },
      "outputs": [],
      "source": [
        "!$aiq run --config_file wikipedia_workflow.yaml --input \"List five subspecies of Aardvarks\""
      ]
    },
    {
      "cell_type": "markdown",
      "source": [
        "## Web Search"
      ],
      "metadata": {
        "id": "lB2ko95jj54K"
      },
      "id": "lB2ko95jj54K"
    },
    {
      "cell_type": "code",
      "source": [
        "# Install the plugin\n",
        "!uv pip install -e examples/getting_started/simple_web_query"
      ],
      "metadata": {
        "id": "6NEMMp64n4u9"
      },
      "id": "6NEMMp64n4u9",
      "execution_count": null,
      "outputs": []
    },
    {
      "cell_type": "code",
      "source": [
        "# Run the workflow\n",
        "!$aiq run --config_file examples/getting_started/simple_web_query/configs/config.yml --input \"What is LangSmith?\""
      ],
      "metadata": {
        "id": "Fn5FGc3qox9Y"
      },
      "id": "Fn5FGc3qox9Y",
      "execution_count": null,
      "outputs": []
    },
    {
      "cell_type": "markdown",
      "source": [
        "- **Tip:** If you want to search any other website, you can change the web url in the yml file: `examples/getting_started/simple_web_query/configs/config.yml`"
      ],
      "metadata": {
        "id": "Jn7oFVnto72E"
      },
      "id": "Jn7oFVnto72E"
    }
  ],
  "metadata": {
    "kernelspec": {
      "display_name": "Python 3 (ipykernel)",
      "language": "python",
      "name": "python3"
    },
    "language_info": {
      "codemirror_mode": {
        "name": "ipython",
        "version": 3
      },
      "file_extension": ".py",
      "mimetype": "text/x-python",
      "name": "python",
      "nbconvert_exporter": "python",
      "pygments_lexer": "ipython3",
      "version": "3.10.12"
    },
    "colab": {
      "provenance": [],
      "include_colab_link": true
    }
  },
  "nbformat": 4,
  "nbformat_minor": 5
}